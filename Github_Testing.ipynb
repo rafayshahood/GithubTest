{
  "nbformat": 4,
  "nbformat_minor": 0,
  "metadata": {
    "colab": {
      "provenance": [],
      "authorship_tag": "ABX9TyMy6uW0zkMxd9SJh7Ye9txH",
      "include_colab_link": true
    },
    "kernelspec": {
      "name": "python3",
      "display_name": "Python 3"
    },
    "language_info": {
      "name": "python"
    }
  },
  "cells": [
    {
      "cell_type": "markdown",
      "metadata": {
        "id": "view-in-github",
        "colab_type": "text"
      },
      "source": [
        "<a href=\"https://colab.research.google.com/github/rafayshahood/GithubTest/blob/main/Github_Testing.ipynb\" target=\"_parent\"><img src=\"https://colab.research.google.com/assets/colab-badge.svg\" alt=\"Open In Colab\"/></a>"
      ]
    },
    {
      "cell_type": "code",
      "execution_count": null,
      "metadata": {
        "id": "LWdfi0yYJr7e"
      },
      "outputs": [],
      "source": []
    },
    {
      "cell_type": "markdown",
      "source": [
        "Testing on Github"
      ],
      "metadata": {
        "id": "PLRnNYuEJuB4"
      }
    },
    {
      "cell_type": "code",
      "source": [],
      "metadata": {
        "id": "LrIfol0fJv2Y"
      },
      "execution_count": null,
      "outputs": []
    }
  ]
}